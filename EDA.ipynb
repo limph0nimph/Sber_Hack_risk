{
 "cells": [
  {
   "cell_type": "code",
   "execution_count": 1,
   "id": "1a135e10",
   "metadata": {},
   "outputs": [],
   "source": [
    "import pandas as pd\n",
    "import numpy as np\n",
    "import matplotlib.pyplot as plt\n",
    "import seaborn as sns\n",
    "import missingno as msno"
   ]
  },
  {
   "cell_type": "code",
   "execution_count": 2,
   "id": "c67bd6a7",
   "metadata": {},
   "outputs": [],
   "source": [
    "df_train_1 = pd.read_pickle('data/train_part1.pkl')"
   ]
  },
  {
   "cell_type": "code",
   "execution_count": 70,
   "id": "0f3231f3",
   "metadata": {},
   "outputs": [],
   "source": [
    "df_test_1 = pd.read_pickle('data/test_data.pkl')"
   ]
  },
  {
   "cell_type": "code",
   "execution_count": 3,
   "id": "241aa0c4",
   "metadata": {
    "pycharm": {
     "name": "#%%\n"
    }
   },
   "outputs": [
    {
     "data": {
      "text/plain": [
       "(763801, 648)"
      ]
     },
     "execution_count": 3,
     "metadata": {},
     "output_type": "execute_result"
    }
   ],
   "source": [
    "df_train_1.shape"
   ]
  },
  {
   "cell_type": "code",
   "execution_count": 4,
   "id": "8aa70cdc",
   "metadata": {
    "pycharm": {
     "name": "#%%\n"
    }
   },
   "outputs": [],
   "source": [
    "cols_to_leave_10 = df_train_1.columns[df_train_1.isna().sum() / df_train_1.shape[0] < 0.1]"
   ]
  },
  {
   "cell_type": "code",
   "execution_count": 5,
   "id": "49fb3455",
   "metadata": {
    "pycharm": {
     "is_executing": true,
     "name": "#%%\n"
    }
   },
   "outputs": [
    {
     "name": "stdout",
     "output_type": "stream",
     "text": [
      "<class 'pandas.core.frame.DataFrame'>\n",
      "Int64Index: 763801 entries, 0 to 971631\n",
      "Columns: 648 entries, REPORT_DT to ID\n",
      "dtypes: datetime64[ns](2), float64(613), int64(17), object(16)\n",
      "memory usage: 3.7+ GB\n"
     ]
    }
   ],
   "source": [
    "df_train_1.info()"
   ]
  },
  {
   "cell_type": "code",
   "execution_count": 6,
   "id": "4d8d3178",
   "metadata": {
    "pycharm": {
     "name": "#%%\n"
    }
   },
   "outputs": [],
   "source": [
    "df_train_1 = df_train_1[cols_to_leave_10]"
   ]
  },
  {
   "cell_type": "code",
   "execution_count": 7,
   "id": "982519a6",
   "metadata": {},
   "outputs": [
    {
     "name": "stdout",
     "output_type": "stream",
     "text": [
      "<class 'pandas.core.frame.DataFrame'>\n",
      "Int64Index: 763801 entries, 0 to 971631\n",
      "Data columns (total 67 columns):\n",
      " #   Column     Non-Null Count   Dtype         \n",
      "---  ------     --------------   -----         \n",
      " 0   REPORT_DT  763801 non-null  datetime64[ns]\n",
      " 1   x_0        763801 non-null  int64         \n",
      " 2   x_1        763801 non-null  int64         \n",
      " 3   x_2        763801 non-null  int64         \n",
      " 4   x_3        763801 non-null  int64         \n",
      " 5   x_4        763801 non-null  float64       \n",
      " 6   x_5        763801 non-null  float64       \n",
      " 7   x_7        763801 non-null  float64       \n",
      " 8   x_9        763801 non-null  datetime64[ns]\n",
      " 9   x_10       763801 non-null  float64       \n",
      " 10  x_11       763801 non-null  int64         \n",
      " 11  x_12       763801 non-null  object        \n",
      " 12  x_13       763751 non-null  object        \n",
      " 13  x_14       763801 non-null  int64         \n",
      " 14  x_15       760374 non-null  float64       \n",
      " 15  x_16       760606 non-null  float64       \n",
      " 16  x_18       763801 non-null  object        \n",
      " 17  x_19       763801 non-null  object        \n",
      " 18  x_20       763801 non-null  float64       \n",
      " 19  x_21       763801 non-null  object        \n",
      " 20  x_22       763801 non-null  int64         \n",
      " 21  x_23       763801 non-null  float64       \n",
      " 22  x_24       763801 non-null  float64       \n",
      " 23  x_535      763801 non-null  float64       \n",
      " 24  x_536      763801 non-null  float64       \n",
      " 25  x_537      763801 non-null  float64       \n",
      " 26  x_538      763801 non-null  float64       \n",
      " 27  x_539      763801 non-null  float64       \n",
      " 28  x_542      763801 non-null  float64       \n",
      " 29  x_544      763801 non-null  float64       \n",
      " 30  x_545      763801 non-null  float64       \n",
      " 31  x_552      763801 non-null  float64       \n",
      " 32  x_612      763801 non-null  int64         \n",
      " 33  x_613      763801 non-null  float64       \n",
      " 34  x_614      763801 non-null  object        \n",
      " 35  x_615      763801 non-null  object        \n",
      " 36  x_616      763801 non-null  int64         \n",
      " 37  x_617      763751 non-null  object        \n",
      " 38  x_618      763801 non-null  object        \n",
      " 39  x_619      752709 non-null  float64       \n",
      " 40  x_620      752703 non-null  float64       \n",
      " 41  x_621      755618 non-null  float64       \n",
      " 42  x_622      763722 non-null  float64       \n",
      " 43  x_623      763801 non-null  int64         \n",
      " 44  x_624      763801 non-null  int64         \n",
      " 45  x_625      763801 non-null  object        \n",
      " 46  x_626      763801 non-null  int64         \n",
      " 47  x_627      763801 non-null  float64       \n",
      " 48  x_628      763801 non-null  object        \n",
      " 49  x_629      763801 non-null  int64         \n",
      " 50  x_630      763801 non-null  int64         \n",
      " 51  x_631      763801 non-null  float64       \n",
      " 52  x_632      763801 non-null  float64       \n",
      " 53  x_634      763801 non-null  object        \n",
      " 54  x_635      763801 non-null  float64       \n",
      " 55  x_636      763801 non-null  float64       \n",
      " 56  x_637      763801 non-null  float64       \n",
      " 57  x_638      763801 non-null  float64       \n",
      " 58  x_639      763801 non-null  float64       \n",
      " 59  x_640      763773 non-null  float64       \n",
      " 60  x_641      763773 non-null  float64       \n",
      " 61  x_643      763801 non-null  int64         \n",
      " 62  x_644      763801 non-null  float64       \n",
      " 63  x_645      763801 non-null  float64       \n",
      " 64  x_646      763801 non-null  float64       \n",
      " 65  TARGET     763801 non-null  int64         \n",
      " 66  ID         763801 non-null  int64         \n",
      "dtypes: datetime64[ns](2), float64(36), int64(17), object(12)\n",
      "memory usage: 396.3+ MB\n"
     ]
    }
   ],
   "source": [
    "df_train_1.info()"
   ]
  },
  {
   "cell_type": "code",
   "execution_count": 8,
   "id": "3354af26",
   "metadata": {},
   "outputs": [
    {
     "data": {
      "text/plain": [
       "<AxesSubplot:>"
      ]
     },
     "execution_count": 8,
     "metadata": {},
     "output_type": "execute_result"
    },
    {
     "data": {
      "image/png": "[encoded data removed]",
      "text/plain": [
       "<Figure size 1800x720 with 2 Axes>"
      ]
     },
     "metadata": {
      "needs_background": "light"
     },
     "output_type": "display_data"
    }
   ],
   "source": [
    "msno.matrix(df_train_1,\n",
    "            color=(0.5, 0.5, 1),\n",
    "            sparkline=True)"
   ]
  },
  {
   "cell_type": "code",
   "execution_count": 9,
   "id": "08764c42",
   "metadata": {},
   "outputs": [],
   "source": [
    "df_train_1 = df_train_1.dropna()"
   ]
  },
  {
   "cell_type": "code",
   "execution_count": 11,
   "id": "46ef3770",
   "metadata": {},
   "outputs": [
    {
     "data": {
      "text/plain": [
       "(747926, 67)"
      ]
     },
     "execution_count": 11,
     "metadata": {},
     "output_type": "execute_result"
    }
   ],
   "source": [
    "df_train_1.shape"
   ]
  },
  {
   "cell_type": "code",
   "execution_count": 18,
   "id": "9cfb1789",
   "metadata": {},
   "outputs": [
    {
     "name": "stdout",
     "output_type": "stream",
     "text": [
      "object\n",
      "object\n",
      "object\n",
      "object\n",
      "object\n",
      "object\n",
      "object\n",
      "object\n",
      "object\n",
      "object\n",
      "object\n",
      "object\n"
     ]
    }
   ],
   "source": [
    "for i in df_train_1.dtypes:\n",
    "    if i == 'O':\n",
    "        print(i)"
   ]
  },
  {
   "cell_type": "code",
   "execution_count": 19,
   "id": "f220a094",
   "metadata": {},
   "outputs": [
    {
     "data": {
      "text/html": [
       "<div>\n",
       "<style scoped>\n",
       "    .dataframe tbody tr th:only-of-type {\n",
       "        vertical-align: middle;\n",
       "    }\n",
       "\n",
       "    .dataframe tbody tr th {\n",
       "        vertical-align: top;\n",
       "    }\n",
       "\n",
       "    .dataframe thead th {\n",
       "        text-align: right;\n",
       "    }\n",
       "</style>\n",
       "<table border=\"1\" class=\"dataframe\">\n",
       "  <thead>\n",
       "    <tr style=\"text-align: right;\">\n",
       "      <th></th>\n",
       "      <th>REPORT_DT</th>\n",
       "      <th>x_0</th>\n",
       "      <th>x_1</th>\n",
       "      <th>x_2</th>\n",
       "      <th>x_3</th>\n",
       "      <th>x_4</th>\n",
       "      <th>x_5</th>\n",
       "      <th>x_7</th>\n",
       "      <th>x_9</th>\n",
       "      <th>x_10</th>\n",
       "      <th>...</th>\n",
       "      <th>x_638</th>\n",
       "      <th>x_639</th>\n",
       "      <th>x_640</th>\n",
       "      <th>x_641</th>\n",
       "      <th>x_643</th>\n",
       "      <th>x_644</th>\n",
       "      <th>x_645</th>\n",
       "      <th>x_646</th>\n",
       "      <th>TARGET</th>\n",
       "      <th>ID</th>\n",
       "    </tr>\n",
       "  </thead>\n",
       "  <tbody>\n",
       "    <tr>\n",
       "      <th>0</th>\n",
       "      <td>2019-08-25</td>\n",
       "      <td>1</td>\n",
       "      <td>0</td>\n",
       "      <td>1</td>\n",
       "      <td>1</td>\n",
       "      <td>2100000.0</td>\n",
       "      <td>1505828.87</td>\n",
       "      <td>1505828.87</td>\n",
       "      <td>2017-03-20</td>\n",
       "      <td>1400000.0</td>\n",
       "      <td>...</td>\n",
       "      <td>15000.00</td>\n",
       "      <td>11.75</td>\n",
       "      <td>0.436268</td>\n",
       "      <td>0.436268</td>\n",
       "      <td>28</td>\n",
       "      <td>22757.85</td>\n",
       "      <td>0.505730</td>\n",
       "      <td>0.716184</td>\n",
       "      <td>0</td>\n",
       "      <td>0</td>\n",
       "    </tr>\n",
       "    <tr>\n",
       "      <th>1</th>\n",
       "      <td>2019-06-27</td>\n",
       "      <td>1</td>\n",
       "      <td>0</td>\n",
       "      <td>1</td>\n",
       "      <td>1</td>\n",
       "      <td>900000.0</td>\n",
       "      <td>363535.29</td>\n",
       "      <td>363535.29</td>\n",
       "      <td>2017-02-02</td>\n",
       "      <td>900000.0</td>\n",
       "      <td>...</td>\n",
       "      <td>0.00</td>\n",
       "      <td>12.25</td>\n",
       "      <td>0.321785</td>\n",
       "      <td>0.321785</td>\n",
       "      <td>28</td>\n",
       "      <td>20133.89</td>\n",
       "      <td>0.268452</td>\n",
       "      <td>0.268452</td>\n",
       "      <td>0</td>\n",
       "      <td>1</td>\n",
       "    </tr>\n",
       "    <tr>\n",
       "      <th>2</th>\n",
       "      <td>2018-01-09</td>\n",
       "      <td>1</td>\n",
       "      <td>0</td>\n",
       "      <td>1</td>\n",
       "      <td>1</td>\n",
       "      <td>1000000.0</td>\n",
       "      <td>990956.71</td>\n",
       "      <td>982069.19</td>\n",
       "      <td>2017-09-20</td>\n",
       "      <td>1000000.0</td>\n",
       "      <td>...</td>\n",
       "      <td>50000.00</td>\n",
       "      <td>7.90</td>\n",
       "      <td>0.284704</td>\n",
       "      <td>0.284704</td>\n",
       "      <td>4</td>\n",
       "      <td>15536.44</td>\n",
       "      <td>0.154156</td>\n",
       "      <td>0.348582</td>\n",
       "      <td>0</td>\n",
       "      <td>2</td>\n",
       "    </tr>\n",
       "    <tr>\n",
       "      <th>3</th>\n",
       "      <td>2019-09-03</td>\n",
       "      <td>1</td>\n",
       "      <td>0</td>\n",
       "      <td>1</td>\n",
       "      <td>1</td>\n",
       "      <td>1400000.0</td>\n",
       "      <td>566338.60</td>\n",
       "      <td>564045.39</td>\n",
       "      <td>2015-02-06</td>\n",
       "      <td>1400000.0</td>\n",
       "      <td>...</td>\n",
       "      <td>0.00</td>\n",
       "      <td>15.75</td>\n",
       "      <td>0.274333</td>\n",
       "      <td>0.274333</td>\n",
       "      <td>55</td>\n",
       "      <td>20318.31</td>\n",
       "      <td>0.239039</td>\n",
       "      <td>0.239039</td>\n",
       "      <td>0</td>\n",
       "      <td>3</td>\n",
       "    </tr>\n",
       "    <tr>\n",
       "      <th>4</th>\n",
       "      <td>2017-12-18</td>\n",
       "      <td>1</td>\n",
       "      <td>0</td>\n",
       "      <td>1</td>\n",
       "      <td>1</td>\n",
       "      <td>2114500.0</td>\n",
       "      <td>1414693.51</td>\n",
       "      <td>1396391.57</td>\n",
       "      <td>2014-10-13</td>\n",
       "      <td>1700000.0</td>\n",
       "      <td>...</td>\n",
       "      <td>100148.58</td>\n",
       "      <td>13.00</td>\n",
       "      <td>0.382492</td>\n",
       "      <td>0.382492</td>\n",
       "      <td>36</td>\n",
       "      <td>24772.97</td>\n",
       "      <td>0.190561</td>\n",
       "      <td>0.238575</td>\n",
       "      <td>0</td>\n",
       "      <td>4</td>\n",
       "    </tr>\n",
       "  </tbody>\n",
       "</table>\n",
       "<p>5 rows × 67 columns</p>\n",
       "</div>"
      ],
      "text/plain": [
       "   REPORT_DT  x_0  x_1  x_2  x_3        x_4         x_5         x_7  \\\n",
       "0 2019-08-25    1    0    1    1  2100000.0  1505828.87  1505828.87   \n",
       "1 2019-06-27    1    0    1    1   900000.0   363535.29   363535.29   \n",
       "2 2018-01-09    1    0    1    1  1000000.0   990956.71   982069.19   \n",
       "3 2019-09-03    1    0    1    1  1400000.0   566338.60   564045.39   \n",
       "4 2017-12-18    1    0    1    1  2114500.0  1414693.51  1396391.57   \n",
       "\n",
       "         x_9       x_10  ...      x_638  x_639     x_640     x_641  x_643  \\\n",
       "0 2017-03-20  1400000.0  ...   15000.00  11.75  0.436268  0.436268     28   \n",
       "1 2017-02-02   900000.0  ...       0.00  12.25  0.321785  0.321785     28   \n",
       "2 2017-09-20  1000000.0  ...   50000.00   7.90  0.284704  0.284704      4   \n",
       "3 2015-02-06  1400000.0  ...       0.00  15.75  0.274333  0.274333     55   \n",
       "4 2014-10-13  1700000.0  ...  100148.58  13.00  0.382492  0.382492     36   \n",
       "\n",
       "      x_644     x_645     x_646  TARGET ID  \n",
       "0  22757.85  0.505730  0.716184       0  0  \n",
       "1  20133.89  0.268452  0.268452       0  1  \n",
       "2  15536.44  0.154156  0.348582       0  2  \n",
       "3  20318.31  0.239039  0.239039       0  3  \n",
       "4  24772.97  0.190561  0.238575       0  4  \n",
       "\n",
       "[5 rows x 67 columns]"
      ]
     },
     "execution_count": 19,
     "metadata": {},
     "output_type": "execute_result"
    }
   ],
   "source": [
    "df_train_1.head()"
   ]
  },
  {
   "cell_type": "code",
   "execution_count": 21,
   "id": "ea9bb588",
   "metadata": {},
   "outputs": [],
   "source": [
    "df_train_1.to_csv('data/train1_clean.csv')"
   ]
  },
  {
   "cell_type": "code",
   "execution_count": 107,
   "id": "f6a4f9b2",
   "metadata": {},
   "outputs": [],
   "source": [
    "from sklearn.metrics import roc_auc_score\n",
    "from sklearn.model_selection import train_test_split\n",
    "from catboost import Pool, CatBoostClassifier"
   ]
  },
  {
   "cell_type": "code",
   "execution_count": 108,
   "id": "c5692b3e",
   "metadata": {},
   "outputs": [],
   "source": [
    "FEATURES = ['x_2','x_3','x_4','x_5','x_7', 'x_21']\n",
    "y = df_train_1['TARGET']\n",
    "X = df_train_1[FEATURES]\n",
    "\n",
    "X_train, X_test, y_train, y_test = train_test_split(X, y, stratify=train_target, \n",
    "                                                    test_size=0.25)\n",
    "\n",
    "print(X_train.shape, X_test.shape, y_train.shape, y_test.shape)\n",
    "\n",
    "train_data, train_target, eval_train, eval_target = train_test_split(X_train,\n",
    "                                                                     y_train,\n",
    "                                                                     stratify=train_target, \n",
    "                                                                     test_size=0.25)\n",
    "\n",
    "print(train_data.shape, train_target.shape, eval_train.shape, eval_target.shape)"
   ]
  },
  {
   "cell_type": "code",
   "execution_count": 65,
   "id": "a02b29a5",
   "metadata": {},
   "outputs": [],
   "source": [
    "train_dataset = Pool(data=train_data,\n",
    "                     label=train_target,\n",
    "                     cat_features=['x_21'])"
   ]
  },
  {
   "cell_type": "code",
   "execution_count": 66,
   "id": "31e3c5cb",
   "metadata": {},
   "outputs": [],
   "source": [
    "model = CatBoostClassifier()\n",
    "\n",
    "model.fit(train_dataset)"
   ]
  },
  {
   "cell_type": "code",
   "execution_count": 69,
   "id": "4b4632bf",
   "metadata": {},
   "outputs": [
    {
     "data": {
      "text/plain": [
       "{'learn': {'Logloss': 0.15620286496696492}}"
      ]
     },
     "execution_count": 69,
     "metadata": {},
     "output_type": "execute_result"
    }
   ],
   "source": [
    "model.best_score_"
   ]
  },
  {
   "cell_type": "code",
   "execution_count": 72,
   "id": "b42546d3",
   "metadata": {},
   "outputs": [],
   "source": [
    "test_data = df_test_1[FEATURES]"
   ]
  },
  {
   "cell_type": "code",
   "execution_count": 113,
   "id": "cca3ef99",
   "metadata": {},
   "outputs": [
    {
     "data": {
      "text/html": [
       "<div>\n",
       "<style scoped>\n",
       "    .dataframe tbody tr th:only-of-type {\n",
       "        vertical-align: middle;\n",
       "    }\n",
       "\n",
       "    .dataframe tbody tr th {\n",
       "        vertical-align: top;\n",
       "    }\n",
       "\n",
       "    .dataframe thead th {\n",
       "        text-align: right;\n",
       "    }\n",
       "</style>\n",
       "<table border=\"1\" class=\"dataframe\">\n",
       "  <thead>\n",
       "    <tr style=\"text-align: right;\">\n",
       "      <th></th>\n",
       "      <th>x_2</th>\n",
       "      <th>x_3</th>\n",
       "      <th>x_4</th>\n",
       "      <th>x_5</th>\n",
       "      <th>x_7</th>\n",
       "      <th>x_21</th>\n",
       "    </tr>\n",
       "  </thead>\n",
       "  <tbody>\n",
       "    <tr>\n",
       "      <th>1943531</th>\n",
       "      <td>1</td>\n",
       "      <td>1</td>\n",
       "      <td>1100000.0</td>\n",
       "      <td>157773.90</td>\n",
       "      <td>157773.90</td>\n",
       "      <td>Приобретение</td>\n",
       "    </tr>\n",
       "    <tr>\n",
       "      <th>1943532</th>\n",
       "      <td>1</td>\n",
       "      <td>1</td>\n",
       "      <td>2580000.0</td>\n",
       "      <td>2187426.61</td>\n",
       "      <td>2183868.19</td>\n",
       "      <td>Приобретение</td>\n",
       "    </tr>\n",
       "    <tr>\n",
       "      <th>1943533</th>\n",
       "      <td>1</td>\n",
       "      <td>1</td>\n",
       "      <td>1200000.0</td>\n",
       "      <td>385763.26</td>\n",
       "      <td>218655.96</td>\n",
       "      <td>Приобретение</td>\n",
       "    </tr>\n",
       "    <tr>\n",
       "      <th>1943534</th>\n",
       "      <td>1</td>\n",
       "      <td>1</td>\n",
       "      <td>637500.0</td>\n",
       "      <td>595369.13</td>\n",
       "      <td>595369.13</td>\n",
       "      <td>Приобретение</td>\n",
       "    </tr>\n",
       "    <tr>\n",
       "      <th>1943537</th>\n",
       "      <td>1</td>\n",
       "      <td>1</td>\n",
       "      <td>1232500.0</td>\n",
       "      <td>1118118.29</td>\n",
       "      <td>1118118.29</td>\n",
       "      <td>Приобретение</td>\n",
       "    </tr>\n",
       "    <tr>\n",
       "      <th>...</th>\n",
       "      <td>...</td>\n",
       "      <td>...</td>\n",
       "      <td>...</td>\n",
       "      <td>...</td>\n",
       "      <td>...</td>\n",
       "      <td>...</td>\n",
       "    </tr>\n",
       "    <tr>\n",
       "      <th>3290365</th>\n",
       "      <td>1</td>\n",
       "      <td>1</td>\n",
       "      <td>1021000.0</td>\n",
       "      <td>943992.37</td>\n",
       "      <td>940500.37</td>\n",
       "      <td>Приобретение</td>\n",
       "    </tr>\n",
       "    <tr>\n",
       "      <th>3290366</th>\n",
       "      <td>1</td>\n",
       "      <td>1</td>\n",
       "      <td>1546974.0</td>\n",
       "      <td>294040.56</td>\n",
       "      <td>290902.27</td>\n",
       "      <td>Приобретение</td>\n",
       "    </tr>\n",
       "    <tr>\n",
       "      <th>3290367</th>\n",
       "      <td>1</td>\n",
       "      <td>1</td>\n",
       "      <td>800000.0</td>\n",
       "      <td>498600.61</td>\n",
       "      <td>498600.61</td>\n",
       "      <td>Приобретение</td>\n",
       "    </tr>\n",
       "    <tr>\n",
       "      <th>3290368</th>\n",
       "      <td>1</td>\n",
       "      <td>1</td>\n",
       "      <td>712000.0</td>\n",
       "      <td>157083.71</td>\n",
       "      <td>147504.75</td>\n",
       "      <td>Приобретение</td>\n",
       "    </tr>\n",
       "    <tr>\n",
       "      <th>3290369</th>\n",
       "      <td>1</td>\n",
       "      <td>1</td>\n",
       "      <td>1200000.0</td>\n",
       "      <td>467939.72</td>\n",
       "      <td>467939.72</td>\n",
       "      <td>Инвестирование</td>\n",
       "    </tr>\n",
       "  </tbody>\n",
       "</table>\n",
       "<p>763809 rows × 6 columns</p>\n",
       "</div>"
      ],
      "text/plain": [
       "         x_2  x_3        x_4         x_5         x_7            x_21\n",
       "1943531    1    1  1100000.0   157773.90   157773.90    Приобретение\n",
       "1943532    1    1  2580000.0  2187426.61  2183868.19    Приобретение\n",
       "1943533    1    1  1200000.0   385763.26   218655.96    Приобретение\n",
       "1943534    1    1   637500.0   595369.13   595369.13    Приобретение\n",
       "1943537    1    1  1232500.0  1118118.29  1118118.29    Приобретение\n",
       "...      ...  ...        ...         ...         ...             ...\n",
       "3290365    1    1  1021000.0   943992.37   940500.37    Приобретение\n",
       "3290366    1    1  1546974.0   294040.56   290902.27    Приобретение\n",
       "3290367    1    1   800000.0   498600.61   498600.61    Приобретение\n",
       "3290368    1    1   712000.0   157083.71   147504.75    Приобретение\n",
       "3290369    1    1  1200000.0   467939.72   467939.72  Инвестирование\n",
       "\n",
       "[763809 rows x 6 columns]"
      ]
     },
     "execution_count": 113,
     "metadata": {},
     "output_type": "execute_result"
    }
   ],
   "source": [
    "test_data"
   ]
  },
  {
   "cell_type": "code",
   "execution_count": 88,
   "id": "6f12c22c",
   "metadata": {},
   "outputs": [],
   "source": [
    "test_preds_proba = model.predict_proba(test_data)[:,0]"
   ]
  },
  {
   "cell_type": "code",
   "execution_count": 112,
   "id": "848d4b67",
   "metadata": {},
   "outputs": [
    {
     "data": {
      "text/plain": [
       "array([0.98310773, 0.91630898, 1.        , ..., 0.93812281, 0.99019038,\n",
       "       0.97703477])"
      ]
     },
     "execution_count": 112,
     "metadata": {},
     "output_type": "execute_result"
    }
   ],
   "source": [
    "test_preds_proba"
   ]
  },
  {
   "cell_type": "code",
   "execution_count": 110,
   "id": "698f47ee",
   "metadata": {},
   "outputs": [],
   "source": [
    "submission = pd.read_csv('data/submission.csv')\n",
    "\n",
    "submission['Probability'] = test_preds_proba\n",
    "\n",
    "submission.to_csv('data/submission.csv',index=False)"
   ]
  },
  {
   "cell_type": "code",
   "execution_count": 111,
   "id": "8280e57a",
   "metadata": {},
   "outputs": [
    {
     "name": "stdout",
     "output_type": "stream",
     "text": [
      "100%|██████████████████████████████████████| 19.5M/19.5M [00:15<00:00, 1.31MB/s]\n",
      "Successfully submitted to HACKATON_RISK"
     ]
    }
   ],
   "source": [
    "!kaggle competitions submit -c risk-management-uiim -f data/submission.csv -m \"Hello Sber!\""
   ]
  },
  {
   "cell_type": "code",
   "execution_count": null,
   "id": "335bdb1a",
   "metadata": {},
   "outputs": [],
   "source": []
  }
 ],
 "metadata": {
  "kernelspec": {
   "display_name": "Python 3 (ipykernel)",
   "language": "python",
   "name": "python3"
  },
  "language_info": {
   "codemirror_mode": {
    "name": "ipython",
    "version": 3
   },
   "file_extension": ".py",
   "mimetype": "text/x-python",
   "name": "python",
   "nbconvert_exporter": "python",
   "pygments_lexer": "ipython3",
   "version": "3.8.6"
  }
 },
 "nbformat": 4,
 "nbformat_minor": 5
}
