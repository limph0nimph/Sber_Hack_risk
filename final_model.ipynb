{
 "cells": [
  {
   "cell_type": "code",
   "execution_count": 69,
   "id": "5dbd564a",
   "metadata": {
    "_cell_guid": "b1076dfc-b9ad-4769-8c92-a6c4dae69d19",
    "_uuid": "8f2839f25d086af736a60e9eeb907d3b93b6e0e5",
    "execution": {
     "iopub.execute_input": "2021-10-29T19:11:29.989238Z",
     "iopub.status.busy": "2021-10-29T19:11:29.987400Z",
     "iopub.status.idle": "2021-10-29T19:11:30.006397Z",
     "shell.execute_reply": "2021-10-29T19:11:30.005376Z",
     "shell.execute_reply.started": "2021-10-29T19:04:43.997235Z"
    },
    "papermill": {
     "duration": 0.047941,
     "end_time": "2021-10-29T19:11:30.006657",
     "exception": false,
     "start_time": "2021-10-29T19:11:29.958716",
     "status": "completed"
    },
    "tags": []
   },
   "outputs": [],
   "source": [
    "import numpy as np\n",
    "import pandas as pd \n",
    "import pandas as pd\n",
    "import numpy as np\n",
    "import pickle\n",
    "import matplotlib.pyplot as plt\n",
    "from sklearn.linear_model import LogisticRegression\n",
    "from sklearn.model_selection import train_test_split\n",
    "from sklearn.metrics import roc_auc_score\n",
    "\n",
    "SEED = 21"
   ]
  },
  {
   "cell_type": "markdown",
   "id": "e5049527",
   "metadata": {},
   "source": [
    "# Reading and Merging train Data\n",
    "### Use only 25 most important features selected previously\n"
   ]
  },
  {
   "cell_type": "code",
   "execution_count": 5,
   "id": "434285ce",
   "metadata": {},
   "outputs": [],
   "source": [
    "FEATURES = ['x_630', 'x_286', 'x_7', 'x_24', 'x_645', 'x_643', 'x_640', 'x_14',\n",
    "            'x_302', 'x_621', 'x_639', 'x_646', 'x_237', 'x_627', 'x_635', 'x_637',\n",
    "            'x_620', 'x_644', 'x_619', 'x_15', 'x_5', 'x_618', 'x_625', 'x_628',\n",
    "            'x_9', 'REPORT_DT', 'TARGET']"
   ]
  },
  {
   "cell_type": "code",
   "execution_count": 6,
   "id": "d62b12c6",
   "metadata": {
    "execution": {
     "iopub.execute_input": "2021-10-29T19:11:30.168600Z",
     "iopub.status.busy": "2021-10-29T19:11:30.167738Z",
     "iopub.status.idle": "2021-10-29T19:11:59.454633Z",
     "shell.execute_reply": "2021-10-29T19:11:59.453423Z",
     "shell.execute_reply.started": "2021-10-29T19:04:44.053155Z"
    },
    "papermill": {
     "duration": 29.314416,
     "end_time": "2021-10-29T19:11:59.454858",
     "exception": false,
     "start_time": "2021-10-29T19:11:30.140442",
     "status": "completed"
    },
    "tags": []
   },
   "outputs": [],
   "source": [
    "df_1 = pd.read_pickle('data/train_part1.pkl')[FEATURES]\n",
    "df_2 = pd.read_pickle('data/train_part2.pkl')[FEATURES]"
   ]
  },
  {
   "cell_type": "code",
   "execution_count": 7,
   "id": "61cc8aa4",
   "metadata": {},
   "outputs": [],
   "source": [
    "df_full = pd.concat((df_1, df_2))\n",
    "\n",
    "df_full['loan_duration'] = pd.to_numeric(df_full['REPORT_DT'] - df_full['x_9']) / 8.64e+13\n",
    "\n",
    "df_full = df_full.drop(['x_9', 'REPORT_DT'], axis=1)"
   ]
  },
  {
   "cell_type": "code",
   "execution_count": 16,
   "id": "9ceab189",
   "metadata": {},
   "outputs": [],
   "source": [
    "df_full = df_full.dropna()"
   ]
  },
  {
   "cell_type": "markdown",
   "id": "95fd7fcb",
   "metadata": {},
   "source": [
    "### $X$ $y$ split"
   ]
  },
  {
   "cell_type": "code",
   "execution_count": 19,
   "id": "c1a0685c",
   "metadata": {},
   "outputs": [],
   "source": [
    "X = df_full.drop('TARGET', axis=1)\n",
    "y = df_full['TARGET']"
   ]
  },
  {
   "cell_type": "code",
   "execution_count": 24,
   "id": "a40355f6",
   "metadata": {},
   "outputs": [],
   "source": [
    "X = pd.get_dummies(X, columns=['x_618', 'x_625', 'x_628'], drop_first='True')"
   ]
  },
  {
   "cell_type": "code",
   "execution_count": 25,
   "id": "ddfa23ca",
   "metadata": {
    "execution": {
     "iopub.execute_input": "2021-10-29T19:12:02.169297Z",
     "iopub.status.busy": "2021-10-29T19:12:02.168240Z",
     "iopub.status.idle": "2021-10-29T19:12:02.490971Z",
     "shell.execute_reply": "2021-10-29T19:12:02.491509Z",
     "shell.execute_reply.started": "2021-10-29T19:05:13.588747Z"
    },
    "papermill": {
     "duration": 0.353483,
     "end_time": "2021-10-29T19:12:02.491699",
     "exception": false,
     "start_time": "2021-10-29T19:12:02.138216",
     "status": "completed"
    },
    "tags": []
   },
   "outputs": [],
   "source": [
    "X_train, X_test, y_train, y_test = train_test_split(X,\n",
    "                                                    y,\n",
    "                                                    stratify = y,\n",
    "                                                    test_size=0.25,\n",
    "                                                    random_state=SEED)"
   ]
  },
  {
   "cell_type": "markdown",
   "id": "39a869ad",
   "metadata": {},
   "source": [
    "## Train a baseline LogReg"
   ]
  },
  {
   "cell_type": "code",
   "execution_count": 26,
   "id": "7b39855f",
   "metadata": {
    "execution": {
     "iopub.execute_input": "2021-10-29T19:12:02.548803Z",
     "iopub.status.busy": "2021-10-29T19:12:02.547749Z",
     "iopub.status.idle": "2021-10-29T19:12:06.556312Z",
     "shell.execute_reply": "2021-10-29T19:12:06.557388Z",
     "shell.execute_reply.started": "2021-10-29T19:05:13.772353Z"
    },
    "papermill": {
     "duration": 4.04025,
     "end_time": "2021-10-29T19:12:06.558293",
     "exception": false,
     "start_time": "2021-10-29T19:12:02.518043",
     "status": "completed"
    },
    "scrolled": true,
    "tags": []
   },
   "outputs": [
    {
     "name": "stderr",
     "output_type": "stream",
     "text": [
      "/Users/dmitry.volkov/.pyenv/versions/3.8.6/lib/python3.8/site-packages/sklearn/linear_model/_logistic.py:763: ConvergenceWarning: lbfgs failed to converge (status=1):\n",
      "STOP: TOTAL NO. of ITERATIONS REACHED LIMIT.\n",
      "\n",
      "Increase the number of iterations (max_iter) or scale the data as shown in:\n",
      "    https://scikit-learn.org/stable/modules/preprocessing.html\n",
      "Please also refer to the documentation for alternative solver options:\n",
      "    https://scikit-learn.org/stable/modules/linear_model.html#logistic-regression\n",
      "  n_iter_i = _check_optimize_result(\n"
     ]
    },
    {
     "data": {
      "text/plain": [
       "LogisticRegression(random_state=21)"
      ]
     },
     "execution_count": 26,
     "metadata": {},
     "output_type": "execute_result"
    }
   ],
   "source": [
    "clf = LogisticRegression(random_state=SEED)\n",
    "clf.fit(X_train, y_train)"
   ]
  },
  {
   "cell_type": "code",
   "execution_count": 32,
   "id": "c52ee173",
   "metadata": {
    "execution": {
     "iopub.execute_input": "2021-10-29T19:12:06.700996Z",
     "iopub.status.busy": "2021-10-29T19:12:06.699792Z",
     "iopub.status.idle": "2021-10-29T19:12:07.211999Z",
     "shell.execute_reply": "2021-10-29T19:12:07.212501Z",
     "shell.execute_reply.started": "2021-10-29T19:05:17.623987Z"
    },
    "papermill": {
     "duration": 0.600567,
     "end_time": "2021-10-29T19:12:07.212715",
     "exception": false,
     "start_time": "2021-10-29T19:12:06.612148",
     "status": "completed"
    },
    "tags": []
   },
   "outputs": [
    {
     "name": "stdout",
     "output_type": "stream",
     "text": [
      "TRAIN SCORE : 0.684\n",
      "TEST SCORE  : 0.685\n"
     ]
    }
   ],
   "source": [
    "print('TRAIN SCORE :', round(roc_auc_score(y_true  = y_train, \n",
    "                                     y_score = clf.predict_proba(X_train)[:,1]),3))\n",
    "\n",
    "print('TEST SCORE  :', round(roc_auc_score(y_true  = y_test,\n",
    "                                     y_score = clf.predict_proba(X_test)[:,1]), 3))"
   ]
  },
  {
   "cell_type": "markdown",
   "id": "1fe03161",
   "metadata": {},
   "source": [
    "## Training LightAutoML"
   ]
  },
  {
   "cell_type": "code",
   "execution_count": 34,
   "id": "d99e24f6",
   "metadata": {},
   "outputs": [],
   "source": [
    "import torch\n",
    "# LightAutoML presets, task and report generation\n",
    "from lightautoml.automl.presets.tabular_presets import TabularAutoML, TabularUtilizedAutoML\n",
    "from lightautoml.tasks import Task\n",
    "from lightautoml.report.report_deco import ReportDeco"
   ]
  },
  {
   "cell_type": "code",
   "execution_count": 36,
   "id": "26aca5c5",
   "metadata": {},
   "outputs": [],
   "source": [
    "N_THREADS = 4\n",
    "N_FOLDS = 5\n",
    "TEST_SIZE = 0.33\n",
    "TIMEOUT = 1500\n",
    "TARGET_NAME = 'TARGET'\n",
    "\n",
    "np.random.seed(SEED)\n",
    "torch.set_num_threads(N_THREADS)"
   ]
  },
  {
   "cell_type": "code",
   "execution_count": 37,
   "id": "5fb9fddc",
   "metadata": {},
   "outputs": [],
   "source": [
    "task = Task('binary')\n",
    "\n",
    "roles = {\n",
    "    'target': TARGET_NAME,\n",
    "}\n",
    "\n",
    "automl = TabularAutoML(\n",
    "    task = task, \n",
    "    timeout = TIMEOUT,\n",
    "    cpu_limit = N_THREADS,\n",
    "    reader_params = {'n_jobs': N_THREADS, 'cv': N_FOLDS, 'random_state': SEED}\n",
    ")"
   ]
  },
  {
   "cell_type": "code",
   "execution_count": 38,
   "id": "20203fbc",
   "metadata": {},
   "outputs": [
    {
     "name": "stderr",
     "output_type": "stream",
     "text": [
      "Copying TaskTimer may affect the parent PipelineTimer, so copy will create new unlimited TaskTimer\n"
     ]
    },
    {
     "name": "stdout",
     "output_type": "stream",
     "text": [
      "Start automl preset with listed constraints:\n",
      "- time: 1000 seconds\n",
      "- cpus: 4 cores\n",
      "- memory: 16 gb\n",
      "\n",
      "Train data shape: (1220832, 26)\n",
      "Feats was rejected during automatic roles guess: []\n",
      "\n",
      "\n",
      "Layer 1 ...\n",
      "Train process start. Time left 973.9130010604858 secs\n",
      "Start fitting Lvl_0_Pipe_0_Mod_0_LinearL2 ...\n",
      "\n",
      "===== Start working with fold 0 for Lvl_0_Pipe_0_Mod_0_LinearL2 =====\n",
      "\n",
      "Linear model: C = 1e-05 score = 0.8810921774252294\n",
      "Linear model: C = 5e-05 score = 0.8832137619841656\n",
      "Linear model: C = 0.0001 score = 0.8835632988191566\n",
      "Linear model: C = 0.0005 score = 0.884114775847344\n",
      "Linear model: C = 0.001 score = 0.884114775847344\n",
      "Linear model: C = 0.005 score = 0.884114775847344\n",
      "\n",
      "===== Start working with fold 1 for Lvl_0_Pipe_0_Mod_0_LinearL2 =====\n",
      "\n",
      "Linear model: C = 1e-05 score = 0.8836593587526764\n",
      "Linear model: C = 5e-05 score = 0.8858379052033905\n",
      "Linear model: C = 0.0001 score = 0.8861890370712758\n",
      "Linear model: C = 0.0005 score = 0.8867213766763369\n",
      "Linear model: C = 0.001 score = 0.8867213766763369\n",
      "Linear model: C = 0.005 score = 0.8867213766763369\n"
     ]
    },
    {
     "name": "stderr",
     "output_type": "stream",
     "text": [
      "Time limit exceeded after calculating fold 1\n"
     ]
    },
    {
     "name": "stdout",
     "output_type": "stream",
     "text": [
      "Lvl_0_Pipe_0_Mod_0_LinearL2 fitting and predicting completed\n",
      "Time left 842.8553500175476\n",
      "Start fitting Selector_LightGBM ...\n",
      "\n",
      "===== Start working with fold 0 for Selector_LightGBM =====\n",
      "\n",
      "Training until validation scores don't improve for 100 rounds\n",
      "[100]\tvalid's auc: 0.876409\n",
      "[200]\tvalid's auc: 0.894708\n",
      "[300]\tvalid's auc: 0.902374\n",
      "[400]\tvalid's auc: 0.906452\n",
      "[500]\tvalid's auc: 0.909253\n",
      "[600]\tvalid's auc: 0.91104\n",
      "[700]\tvalid's auc: 0.912178\n",
      "[800]\tvalid's auc: 0.913017\n",
      "[900]\tvalid's auc: 0.913667\n",
      "[1000]\tvalid's auc: 0.914169\n",
      "[1100]\tvalid's auc: 0.914583\n",
      "[1200]\tvalid's auc: 0.914778\n",
      "[1300]\tvalid's auc: 0.914812\n",
      "[1400]\tvalid's auc: 0.914923\n",
      "Early stopping, best iteration is:\n",
      "[1379]\tvalid's auc: 0.914965\n",
      "Selector_LightGBM fitting and predicting completed\n",
      "Start fitting Lvl_0_Pipe_1_Mod_0_LightGBM ...\n",
      "\n",
      "===== Start working with fold 0 for Lvl_0_Pipe_1_Mod_0_LightGBM =====\n",
      "\n",
      "Training until validation scores don't improve for 100 rounds\n",
      "[100]\tvalid's auc: 0.908393\n",
      "[200]\tvalid's auc: 0.911279\n",
      "[300]\tvalid's auc: 0.912687\n",
      "[400]\tvalid's auc: 0.913301\n",
      "[500]\tvalid's auc: 0.913859\n",
      "[600]\tvalid's auc: 0.9143\n",
      "[700]\tvalid's auc: 0.914701\n",
      "[800]\tvalid's auc: 0.915182\n",
      "[900]\tvalid's auc: 0.91555\n",
      "[1000]\tvalid's auc: 0.915831\n",
      "[1100]\tvalid's auc: 0.916245\n",
      "[1200]\tvalid's auc: 0.91631\n",
      "[1300]\tvalid's auc: 0.916373\n",
      "[1400]\tvalid's auc: 0.916576\n",
      "[1500]\tvalid's auc: 0.916809\n",
      "[1600]\tvalid's auc: 0.91694\n",
      "Early stopping, best iteration is:\n",
      "[1566]\tvalid's auc: 0.917006\n"
     ]
    },
    {
     "name": "stderr",
     "output_type": "stream",
     "text": [
      "Time limit exceeded after calculating fold 0\n"
     ]
    },
    {
     "name": "stdout",
     "output_type": "stream",
     "text": [
      "Lvl_0_Pipe_1_Mod_0_LightGBM fitting and predicting completed\n",
      "Time left -168.77617478370667\n"
     ]
    },
    {
     "name": "stderr",
     "output_type": "stream",
     "text": [
      "Time limit exceeded. Last level models will be blended and unused pipelines will be pruned.\n"
     ]
    },
    {
     "name": "stdout",
     "output_type": "stream",
     "text": [
      "Blending: Optimization starts with equal weights and score 0.8975008873281999\n",
      "Blending, iter 0: score = 0.8997583062002277, weights = [0.13695437 0.86304563]\n",
      "Blending, iter 1: score = 0.8997583062002277, weights = [0.13695437 0.86304563]\n",
      "No score update. Terminated\n",
      "\n",
      "Automl preset training completed in 1175.48 seconds.\n"
     ]
    },
    {
     "data": {
      "text/plain": [
       "array([[0.00326003],\n",
       "       [       nan],\n",
       "       [       nan],\n",
       "       ...,\n",
       "       [       nan],\n",
       "       [0.75454414],\n",
       "       [0.00137328]], dtype=float32)"
      ]
     },
     "execution_count": 38,
     "metadata": {},
     "output_type": "execute_result"
    }
   ],
   "source": [
    "automl.fit_predict(df_full, roles = roles)"
   ]
  },
  {
   "cell_type": "markdown",
   "id": "92313d6a",
   "metadata": {},
   "source": [
    "##  Check features importance"
   ]
  },
  {
   "cell_type": "code",
   "execution_count": 70,
   "id": "7e88dd11",
   "metadata": {},
   "outputs": [],
   "source": [
    "feature_importance = automl.get_feature_scores()"
   ]
  },
  {
   "cell_type": "code",
   "execution_count": 71,
   "id": "c817752e",
   "metadata": {},
   "outputs": [
    {
     "data": {
      "image/png": "[encoded data removed]",
      "text/plain": [
       "<Figure size 2250x750 with 1 Axes>"
      ]
     },
     "metadata": {
      "needs_background": "light"
     },
     "output_type": "display_data"
    }
   ],
   "source": [
    "plt.figure(figsize=(15, 5), dpi=150)\n",
    "plt.bar(x = feature_importance['Feature'][:30],\n",
    "            height = feature_importance['Importance'][:30])\n",
    "plt.xticks(rotation=25, ha='right', fontsize=10)\n",
    "plt.show()"
   ]
  },
  {
   "cell_type": "markdown",
   "id": "c8f1106d",
   "metadata": {},
   "source": [
    "# Make predictions"
   ]
  },
  {
   "cell_type": "code",
   "execution_count": 43,
   "id": "47990817",
   "metadata": {},
   "outputs": [],
   "source": [
    "FEATURES.remove('TARGET')\n",
    "\n",
    "data_test = pd.read_pickle('data/test_data.pkl')[FEATURES]\n",
    "\n",
    "data_test['loan_duration'] = pd.to_numeric(data_test['REPORT_DT'] - data_test['x_9']) / 8.64e+13\n",
    "\n",
    "data_test = data_test.drop(['x_9', 'REPORT_DT'], axis=1)"
   ]
  },
  {
   "cell_type": "code",
   "execution_count": null,
   "id": "579bca01",
   "metadata": {},
   "outputs": [],
   "source": [
    "y_test_pred = automl.predict(data_test)"
   ]
  },
  {
   "cell_type": "markdown",
   "id": "d97d37dd",
   "metadata": {},
   "source": [
    "# Create Submission File"
   ]
  },
  {
   "cell_type": "code",
   "execution_count": 50,
   "id": "25ed5b05",
   "metadata": {},
   "outputs": [],
   "source": [
    "submission = pd.read_csv('data/submission.csv')\n",
    "\n",
    "submission['Probability'] = y_test_pred.data[:, 0]\n",
    "\n",
    "submission.to_csv('submission.csv',index=False)"
   ]
  },
  {
   "cell_type": "code",
   "execution_count": 93,
   "id": "66407771",
   "metadata": {
    "execution": {
     "iopub.execute_input": "2021-10-29T19:12:07.332590Z",
     "iopub.status.busy": "2021-10-29T19:12:07.331527Z",
     "iopub.status.idle": "2021-10-29T19:12:40.947154Z",
     "shell.execute_reply": "2021-10-29T19:12:40.946376Z",
     "shell.execute_reply.started": "2021-10-29T19:05:18.108365Z"
    },
    "papermill": {
     "duration": 33.645989,
     "end_time": "2021-10-29T19:12:40.947323",
     "exception": false,
     "start_time": "2021-10-29T19:12:07.301334",
     "status": "completed"
    },
    "tags": []
   },
   "outputs": [
    {
     "name": "stdout",
     "output_type": "stream",
     "text": [
      "100%|██████████████████████████████████████| 14.7M/14.7M [00:10<00:00, 1.51MB/s]\n",
      "Successfully submitted to HACKATON_RISK"
     ]
    }
   ],
   "source": [
    "!kaggle competitions submit -c risk-management-uiim -f submission.csv -m \"Hello Sber!\""
   ]
  },
  {
   "cell_type": "markdown",
   "id": "626835d6",
   "metadata": {},
   "source": [
    "# Save Data"
   ]
  },
  {
   "cell_type": "code",
   "execution_count": 102,
   "id": "db034e7e",
   "metadata": {},
   "outputs": [],
   "source": [
    "df_full.to_pickle('df_full.pkl')"
   ]
  },
  {
   "cell_type": "markdown",
   "id": "430c762b",
   "metadata": {},
   "source": [
    "# Save Model"
   ]
  },
  {
   "cell_type": "code",
   "execution_count": 103,
   "id": "5bba803b",
   "metadata": {},
   "outputs": [],
   "source": [
    "with open('model.pkl', 'wb') as files:\n",
    "    pickle.dump(automl, files)"
   ]
  }
 ],
 "metadata": {
  "kernelspec": {
   "display_name": "Python 3 (ipykernel)",
   "language": "python",
   "name": "python3"
  },
  "language_info": {
   "codemirror_mode": {
    "name": "ipython",
    "version": 3
   },
   "file_extension": ".py",
   "mimetype": "text/x-python",
   "name": "python",
   "nbconvert_exporter": "python",
   "pygments_lexer": "ipython3",
   "version": "3.8.6"
  },
  "papermill": {
   "default_parameters": {},
   "duration": 86.416201,
   "end_time": "2021-10-29T19:12:46.734822",
   "environment_variables": {},
   "exception": null,
   "input_path": "__notebook__.ipynb",
   "output_path": "__notebook__.ipynb",
   "parameters": {},
   "start_time": "2021-10-29T19:11:20.318621",
   "version": "2.3.3"
  }
 },
 "nbformat": 4,
 "nbformat_minor": 5
}
